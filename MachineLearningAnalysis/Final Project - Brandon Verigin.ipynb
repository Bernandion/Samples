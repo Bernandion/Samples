{
 "cells": [
  {
   "cell_type": "markdown",
   "metadata": {},
   "source": [
    "With the dataset on international health and population metrics by the US Census Bureau obtained at https://www.kaggle.com/census/international-data, various machine learning algorithms will be applied in order to predict possible future trends in health and population in Canada and other countries of the world. \n",
    "\n",
    "This data shows population information such as age, gender, fertility rates, birth rates, death rates, and migration rates among various countries in the world with projections through the year 2050. The dataset is comprised of 8 separate csvs consisting of data related to individual topics with strongly correlated features. The csvs range from about 8 to 100 features due to some having population data for each age group. The total amount of observations in the data is either about 15106 for the csvs containing data that goes by country and year, or 30280 for those that also include data for both female and male sexes along with the country and year. Through analysis of this data, information on human development and life expectancy per country can be extrapolated and trends in population can be used to attempt to predict the future condition of the world.\n",
    "\n",
    "Through 10-fold cross validation and splitting of data by year, all machine learning implementations done will be supervised tasks. No regularization methods will be performed on the data as well. The main evaluation metrics used will be mean squared error and R-squared score for regression, and precision, recall, accuracy, along with confusion matrices for classification methods.\n",
    "\n",
    "Using the data in the birth, death, and growth rates dataset first, predictions for growth, migration, birth, and death rates for countries will be made and analyzed.\n",
    "\n"
   ]
  },
  {
   "cell_type": "markdown",
   "metadata": {},
   "source": [
    "Using everything but the country and crude death rate as a feature, the crude death rate for Canada will try to be predicted by both gradient boosted trees and linear regression. Since there is no dedicated test set, 10-fold cross validation will be done."
   ]
  },
  {
   "cell_type": "code",
   "execution_count": 118,
   "metadata": {},
   "outputs": [
    {
     "data": {
      "text/html": [
       "<div>\n",
       "<style scoped>\n",
       "    .dataframe tbody tr th:only-of-type {\n",
       "        vertical-align: middle;\n",
       "    }\n",
       "\n",
       "    .dataframe tbody tr th {\n",
       "        vertical-align: top;\n",
       "    }\n",
       "\n",
       "    .dataframe thead th {\n",
       "        text-align: right;\n",
       "    }\n",
       "</style>\n",
       "<table border=\"1\" class=\"dataframe\">\n",
       "  <thead>\n",
       "    <tr style=\"text-align: right;\">\n",
       "      <th></th>\n",
       "      <th>country_code</th>\n",
       "      <th>country_name</th>\n",
       "      <th>year</th>\n",
       "      <th>crude_birth_rate</th>\n",
       "      <th>crude_death_rate</th>\n",
       "      <th>net_migration</th>\n",
       "      <th>rate_natural_increase</th>\n",
       "      <th>growth_rate</th>\n",
       "    </tr>\n",
       "  </thead>\n",
       "  <tbody>\n",
       "    <tr>\n",
       "      <th>4801</th>\n",
       "      <td>CA</td>\n",
       "      <td>Canada</td>\n",
       "      <td>2036</td>\n",
       "      <td>9.28</td>\n",
       "      <td>11.35</td>\n",
       "      <td>5.68</td>\n",
       "      <td>-0.207</td>\n",
       "      <td>0.361</td>\n",
       "    </tr>\n",
       "    <tr>\n",
       "      <th>4802</th>\n",
       "      <td>CA</td>\n",
       "      <td>Canada</td>\n",
       "      <td>2022</td>\n",
       "      <td>10.00</td>\n",
       "      <td>9.25</td>\n",
       "      <td>5.70</td>\n",
       "      <td>0.075</td>\n",
       "      <td>0.645</td>\n",
       "    </tr>\n",
       "    <tr>\n",
       "      <th>4803</th>\n",
       "      <td>CA</td>\n",
       "      <td>Canada</td>\n",
       "      <td>2023</td>\n",
       "      <td>9.92</td>\n",
       "      <td>9.38</td>\n",
       "      <td>5.70</td>\n",
       "      <td>0.054</td>\n",
       "      <td>0.624</td>\n",
       "    </tr>\n",
       "    <tr>\n",
       "      <th>4804</th>\n",
       "      <td>CA</td>\n",
       "      <td>Canada</td>\n",
       "      <td>2024</td>\n",
       "      <td>9.85</td>\n",
       "      <td>9.51</td>\n",
       "      <td>5.69</td>\n",
       "      <td>0.034</td>\n",
       "      <td>0.603</td>\n",
       "    </tr>\n",
       "    <tr>\n",
       "      <th>4805</th>\n",
       "      <td>CA</td>\n",
       "      <td>Canada</td>\n",
       "      <td>2025</td>\n",
       "      <td>9.75</td>\n",
       "      <td>9.64</td>\n",
       "      <td>5.69</td>\n",
       "      <td>0.011</td>\n",
       "      <td>0.580</td>\n",
       "    </tr>\n",
       "  </tbody>\n",
       "</table>\n",
       "</div>"
      ],
      "text/plain": [
       "     country_code country_name  year  crude_birth_rate  crude_death_rate  \\\n",
       "4801           CA       Canada  2036              9.28             11.35   \n",
       "4802           CA       Canada  2022             10.00              9.25   \n",
       "4803           CA       Canada  2023              9.92              9.38   \n",
       "4804           CA       Canada  2024              9.85              9.51   \n",
       "4805           CA       Canada  2025              9.75              9.64   \n",
       "\n",
       "      net_migration  rate_natural_increase  growth_rate  \n",
       "4801           5.68                 -0.207        0.361  \n",
       "4802           5.70                  0.075        0.645  \n",
       "4803           5.70                  0.054        0.624  \n",
       "4804           5.69                  0.034        0.603  \n",
       "4805           5.69                  0.011        0.580  "
      ]
     },
     "execution_count": 118,
     "metadata": {},
     "output_type": "execute_result"
    }
   ],
   "source": [
    "import pandas as pd\n",
    "import numpy as np\n",
    "import matplotlib.pyplot as plt\n",
    "import keras\n",
    "from sklearn.cross_validation import train_test_split\n",
    "from sklearn.tree import DecisionTreeRegressor, DecisionTreeClassifier, export_graphviz\n",
    "from sklearn.ensemble import RandomForestRegressor, GradientBoostingRegressor, RandomForestClassifier, GradientBoostingClassifier\n",
    "from sklearn.metrics import confusion_matrix, mean_squared_error, precision_recall_fscore_support, accuracy_score, r2_score\n",
    "from sklearn.linear_model import LinearRegression, Lasso, LogisticRegression\n",
    "from sklearn.feature_selection import SelectKBest, SelectPercentile, f_regression\n",
    "from sklearn.model_selection import KFold\n",
    "from sklearn.metrics import mean_squared_error, confusion_matrix, accuracy_score\n",
    "from sklearn.neighbors import KNeighborsClassifier\n",
    "\n",
    "df = pd.read_csv('international-data/birth_death_growth_rates.csv').dropna()\n",
    "can = df[df['country_name'] == 'Canada']\n",
    "\n",
    "can.head()"
   ]
  },
  {
   "cell_type": "code",
   "execution_count": 14,
   "metadata": {},
   "outputs": [
    {
     "name": "stdout",
     "output_type": "stream",
     "text": [
      "The MSE using cross validation on the entire dataset is 0.06587875653460644\n"
     ]
    },
    {
     "data": {
      "image/png": "[encoded data removed]",
      "text/plain": [
       "<matplotlib.figure.Figure at 0x250bf4b0198>"
      ]
     },
     "metadata": {},
     "output_type": "display_data"
    },
    {
     "data": {
      "image/png": "[encoded data removed]",
      "text/plain": [
       "<matplotlib.figure.Figure at 0x250bf613a90>"
      ]
     },
     "metadata": {},
     "output_type": "display_data"
    }
   ],
   "source": [
    "# use everything but country and death rate as features and death rate as the predictor\n",
    "X = can.drop(['country_code', 'country_name', 'crude_death_rate'], axis=1)\n",
    "y = can['crude_death_rate']\n",
    "\n",
    "# cross validation over 10-folds using gradient boosting regressor\n",
    "kf = KFold(n_splits=10)\n",
    "\n",
    "preds_cv = []\n",
    "\n",
    "for train, test in kf.split(X):\n",
    "    X_cv = X.iloc[train]\n",
    "    y_cv = y.iloc[train]\n",
    "    \n",
    "    X_cv_test = X.iloc[test]\n",
    "    \n",
    "    lm_cv = GradientBoostingRegressor(n_estimators=500, learning_rate=0.01, max_depth=4, random_state=1)\n",
    "    lm_cv.fit(X_cv, y_cv)\n",
    "    preds = lm_cv.predict(X_cv_test)\n",
    "    preds_cv += list(preds)\n",
    "    \n",
    "    # Seeing what is identified as the most important features\n",
    "    feature_importance = lm_cv.feature_importances_*100\n",
    "    rel_imp = pd.Series(feature_importance, index=X.columns).sort_values(inplace=False)\n",
    "    rel_imp.T.plot(kind='barh', color='r', )\n",
    "    plt.xlabel('Variable Importance')\n",
    "    plt.gca().legend_ = None\n",
    "\n",
    "mse_cv = mean_squared_error(y, preds_cv)\n",
    "print(\"The MSE using cross validation on the entire dataset is %s\" % mse_cv)\n",
    "\n",
    "plt.figure()\n",
    "plt.scatter(y, preds_cv)\n",
    "plt.xlabel(\"Actual y Value\")\n",
    "plt.ylabel(\"Predicted y Value\")\n",
    "plt.show()"
   ]
  },
  {
   "cell_type": "markdown",
   "metadata": {},
   "source": [
    "As seen above, the models seem to do a very good job of predicting Canadian death rates based on the other features. The year also appears to be an important factor in death rates, which makes sense considering death rates tend to get higher as the population increases.\n",
    "\n",
    "This implementation suggests that if at least the year, birth rate, growth rate, and natural increase rate are known, then future death rates can be predicted with considerable accuracy.\n",
    "\n",
    "Now, using just the year and birth rate as features with the data up to the year 2017 as training data and the remaining projections as test data, death rates will again be predicted and compared using both gradient boosted trees and linear regression."
   ]
  },
  {
   "cell_type": "code",
   "execution_count": 54,
   "metadata": {},
   "outputs": [
    {
     "data": {
      "image/png": "[encoded data removed]",
      "text/plain": [
       "<matplotlib.figure.Figure at 0x250c0a51198>"
      ]
     },
     "metadata": {},
     "output_type": "display_data"
    }
   ],
   "source": [
    "X = can[['year', 'crude_birth_rate']]\n",
    "y = can[['year', 'crude_death_rate']]\n",
    "\n",
    "X_train = X[X['year'] <= 2017]\n",
    "X_test = X[X['year'] > 2017]\n",
    "\n",
    "y_train = y[y['year'] <= 2017]\n",
    "y_test = y[y['year'] > 2017]\n",
    "y_train = y_train['crude_death_rate']\n",
    "y_test = y_test['crude_death_rate']\n",
    "\n",
    "# show the projected future death rates in the data\n",
    "plt.figure()\n",
    "plt.scatter(X_test['year'], y_test)\n",
    "plt.xlabel(\"Year\")\n",
    "plt.ylabel(\"Death Rate\")\n",
    "plt.show()\n"
   ]
  },
  {
   "cell_type": "code",
   "execution_count": 60,
   "metadata": {},
   "outputs": [
    {
     "name": "stdout",
     "output_type": "stream",
     "text": [
      "7.136897330572812\n",
      "0.9997638603453899\n"
     ]
    },
    {
     "data": {
      "image/png": "[encoded data removed]",
      "text/plain": [
       "<matplotlib.figure.Figure at 0x250c0a7fb00>"
      ]
     },
     "metadata": {},
     "output_type": "display_data"
    }
   ],
   "source": [
    "# Gradient Boosted Tree to find future death rates for 2018 and further\n",
    "regr = GradientBoostingRegressor(n_estimators=500, learning_rate=0.01, max_depth=4, random_state=1)\n",
    "regr.fit(X_train, y_train)\n",
    "\n",
    "preds = regr.predict(X_test)\n",
    "print(mean_squared_error(y_test, preds))\n",
    "\n",
    "preds_rs = regr.predict(X_train)\n",
    "print(r2_score(y_train, preds_rs))\n",
    "\n",
    "plt.figure()\n",
    "plt.scatter(y_test, preds)\n",
    "plt.xlabel(\"Actual y Value\")\n",
    "plt.ylabel(\"Predicted y Value\")\n",
    "plt.show()\n"
   ]
  },
  {
   "cell_type": "code",
   "execution_count": 58,
   "metadata": {},
   "outputs": [
    {
     "name": "stdout",
     "output_type": "stream",
     "text": [
      "0.9792908926189323\n",
      "0.907472373954879\n"
     ]
    },
    {
     "data": {
      "image/png": "[encoded data removed]",
      "text/plain": [
       "<matplotlib.figure.Figure at 0x250c0d90710>"
      ]
     },
     "metadata": {},
     "output_type": "display_data"
    }
   ],
   "source": [
    "# Linear Regression to find future death rates for 2018 and further\n",
    "lin = LinearRegression()\n",
    "lin.fit(X_train, y_train)\n",
    "\n",
    "preds = lin.predict(X_test)\n",
    "print(mean_squared_error(y_test, preds))\n",
    "\n",
    "preds_rs = lin.predict(X_train)\n",
    "print(r2_score(y_train, preds_rs))\n",
    "\n",
    "plt.figure()\n",
    "plt.scatter(y_test, preds)\n",
    "plt.xlabel(\"Actual y Value\")\n",
    "plt.ylabel(\"Predicted y Value\")\n",
    "plt.show()\n"
   ]
  },
  {
   "cell_type": "markdown",
   "metadata": {},
   "source": [
    "As seen above, when only two features are used linear regression appears to do a much better job at predicting future death rates in comparison to gradient boosted trees. This seems to be due to the lack of features for the tree resulting in death rates always being predicted the same.\n",
    "\n",
    "This shows that linear regression can be used to predict Canadian death rates with decent accuracy if few features are known. It also shows that future death rates appear to be increasing in a general linear fashion."
   ]
  },
  {
   "cell_type": "markdown",
   "metadata": {},
   "source": [
    "Now analysis will be done using the data in the midyear population 5 year age sex dataset. This contains data for the amount of people each country has by sex and year across 5 year intervals.\n",
    "\n",
    "First using k nearest neighbors, whether a country is Canada or not will be predicted using the other features except total flag and age group indicator. Training data will consist of data in and before 2017 and testing will be after 2017. Then the same will be done using gradient boosted classifier to see which does a better job at identifying if a country is canada or not."
   ]
  },
  {
   "cell_type": "code",
   "execution_count": 105,
   "metadata": {},
   "outputs": [
    {
     "name": "stderr",
     "output_type": "stream",
     "text": [
      "C:\\Users\\Brandon\\Anaconda3\\lib\\site-packages\\ipykernel_launcher.py:8: FutureWarning: set_value is deprecated and will be removed in a future release. Please use .at[] or .iat[] accessors instead\n",
      "  \n"
     ]
    },
    {
     "data": {
      "text/html": [
       "<div>\n",
       "<style scoped>\n",
       "    .dataframe tbody tr th:only-of-type {\n",
       "        vertical-align: middle;\n",
       "    }\n",
       "\n",
       "    .dataframe tbody tr th {\n",
       "        vertical-align: top;\n",
       "    }\n",
       "\n",
       "    .dataframe thead th {\n",
       "        text-align: right;\n",
       "    }\n",
       "</style>\n",
       "<table border=\"1\" class=\"dataframe\">\n",
       "  <thead>\n",
       "    <tr style=\"text-align: right;\">\n",
       "      <th></th>\n",
       "      <th>country_code</th>\n",
       "      <th>country_name</th>\n",
       "      <th>year</th>\n",
       "      <th>total_flag</th>\n",
       "      <th>starting_age</th>\n",
       "      <th>age_group_indicator</th>\n",
       "      <th>ending_age</th>\n",
       "      <th>midyear_population</th>\n",
       "      <th>midyear_population_male</th>\n",
       "      <th>midyear_population_female</th>\n",
       "    </tr>\n",
       "  </thead>\n",
       "  <tbody>\n",
       "    <tr>\n",
       "      <th>0</th>\n",
       "      <td>NO</td>\n",
       "      <td>not</td>\n",
       "      <td>2036</td>\n",
       "      <td>A</td>\n",
       "      <td>0</td>\n",
       "      <td>-</td>\n",
       "      <td>4</td>\n",
       "      <td>324151</td>\n",
       "      <td>166113</td>\n",
       "      <td>158038</td>\n",
       "    </tr>\n",
       "    <tr>\n",
       "      <th>1</th>\n",
       "      <td>EG</td>\n",
       "      <td>not</td>\n",
       "      <td>2021</td>\n",
       "      <td>A</td>\n",
       "      <td>100</td>\n",
       "      <td>+</td>\n",
       "      <td>0</td>\n",
       "      <td>327</td>\n",
       "      <td>117</td>\n",
       "      <td>210</td>\n",
       "    </tr>\n",
       "    <tr>\n",
       "      <th>2</th>\n",
       "      <td>SN</td>\n",
       "      <td>not</td>\n",
       "      <td>2042</td>\n",
       "      <td>A</td>\n",
       "      <td>90</td>\n",
       "      <td>-</td>\n",
       "      <td>94</td>\n",
       "      <td>102198</td>\n",
       "      <td>40128</td>\n",
       "      <td>62070</td>\n",
       "    </tr>\n",
       "    <tr>\n",
       "      <th>3</th>\n",
       "      <td>ZI</td>\n",
       "      <td>not</td>\n",
       "      <td>2005</td>\n",
       "      <td>A</td>\n",
       "      <td>85</td>\n",
       "      <td>-</td>\n",
       "      <td>89</td>\n",
       "      <td>19925</td>\n",
       "      <td>9055</td>\n",
       "      <td>10870</td>\n",
       "    </tr>\n",
       "    <tr>\n",
       "      <th>4</th>\n",
       "      <td>SI</td>\n",
       "      <td>not</td>\n",
       "      <td>2035</td>\n",
       "      <td>A</td>\n",
       "      <td>0</td>\n",
       "      <td>-</td>\n",
       "      <td>4</td>\n",
       "      <td>67365</td>\n",
       "      <td>34744</td>\n",
       "      <td>32621</td>\n",
       "    </tr>\n",
       "  </tbody>\n",
       "</table>\n",
       "</div>"
      ],
      "text/plain": [
       "  country_code country_name  year total_flag  starting_age  \\\n",
       "0           NO          not  2036          A             0   \n",
       "1           EG          not  2021          A           100   \n",
       "2           SN          not  2042          A            90   \n",
       "3           ZI          not  2005          A            85   \n",
       "4           SI          not  2035          A             0   \n",
       "\n",
       "  age_group_indicator  ending_age  midyear_population  \\\n",
       "0                   -           4              324151   \n",
       "1                   +           0                 327   \n",
       "2                   -          94              102198   \n",
       "3                   -          89               19925   \n",
       "4                   -           4               67365   \n",
       "\n",
       "   midyear_population_male  midyear_population_female  \n",
       "0                   166113                     158038  \n",
       "1                      117                        210  \n",
       "2                    40128                      62070  \n",
       "3                     9055                      10870  \n",
       "4                    34744                      32621  "
      ]
     },
     "execution_count": 105,
     "metadata": {},
     "output_type": "execute_result"
    }
   ],
   "source": [
    "df = pd.read_csv('international-data/midyear_population_5yr_age_sex.csv').dropna()\n",
    "\n",
    "# change to can if Canada and not if not\n",
    "for i, row in df.iterrows():\n",
    "  val = 'not'\n",
    "  if row['country_name'] == 'Canada':\n",
    "    val = 'can'\n",
    "  df.set_value(i,'country_name',val)\n",
    "\n",
    "df.head()"
   ]
  },
  {
   "cell_type": "code",
   "execution_count": 111,
   "metadata": {},
   "outputs": [
    {
     "name": "stdout",
     "output_type": "stream",
     "text": [
      "Confusion matrix:\n",
      "\n",
      "['can' 'not']\n",
      "[[     7    719]\n",
      " [    36 164766]]\n",
      "The accuracy is:  0.9954388381421875\n"
     ]
    },
    {
     "data": {
      "text/plain": [
       "(0.9956551953349246, 0.999781556049077, 0.9977141092443844, None)"
      ]
     },
     "execution_count": 111,
     "metadata": {},
     "output_type": "execute_result"
    }
   ],
   "source": [
    "# Use everything but the country, total_flag, and age_group_indicator as features and country_name for predictor\n",
    "X = df.drop(['country_code', 'country_name', 'total_flag', 'age_group_indicator'], axis=1)\n",
    "y = df[['year', 'country_name']]\n",
    "\n",
    "\n",
    "X_train = X[X['year'] <= 2017]\n",
    "X_test = X[X['year'] > 2017]\n",
    "\n",
    "y_train = y[y['year'] <= 2017]\n",
    "y_test = y[y['year'] > 2017]\n",
    "y_train = y_train['country_name']\n",
    "y_test = y_test['country_name']\n",
    "\n",
    "# KNN to predict if a country is canada or not by population information for sex and age\n",
    "knn = KNeighborsClassifier(10)\n",
    "knn.fit(X_train, y_train)\n",
    "\n",
    "knn_preds = knn.predict(X_test)\n",
    "\n",
    "conf = confusion_matrix(y_test, knn_preds)\n",
    "print('Confusion matrix:\\n')\n",
    "print(knn.classes_)\n",
    "print(conf)\n",
    "acc = accuracy_score(y_test, knn_preds)\n",
    "print('The accuracy is: ', acc)\n",
    "precision_recall_fscore_support(y_test, knn_preds, pos_label='not', average='binary')\n"
   ]
  },
  {
   "cell_type": "code",
   "execution_count": 112,
   "metadata": {},
   "outputs": [
    {
     "name": "stdout",
     "output_type": "stream",
     "text": [
      "Confusion matrix:\n",
      "\n",
      "['can' 'not']\n",
      "[[     1    725]\n",
      " [    32 164770]]\n",
      "Accuracy is:  0.9954267555942197\n"
     ]
    },
    {
     "data": {
      "text/plain": [
       "(0.9956192029970694, 0.9998058275991796, 0.997708123295095, None)"
      ]
     },
     "execution_count": 112,
     "metadata": {},
     "output_type": "execute_result"
    }
   ],
   "source": [
    "# Gradient Boosting Classifier to predict if a country is canada\n",
    "gradclass = GradientBoostingClassifier()\n",
    "\n",
    "gradclass.fit(X_train, y_train)\n",
    "pred2 = gradclass.predict(X_test)\n",
    "\n",
    "conf = confusion_matrix(y_test, pred2)\n",
    "print('Confusion matrix:\\n')\n",
    "print(gradclass.classes_)\n",
    "print(conf)\n",
    "tree_acc = accuracy_score(y_test, pred2)\n",
    "print('Accuracy is: ', tree_acc)\n",
    "precision_recall_fscore_support(y_test, pred2, pos_label='not', average='binary')\n"
   ]
  },
  {
   "cell_type": "markdown",
   "metadata": {},
   "source": [
    "As shown, both do a poor job of identifying Canada, with KNN only predicting Canada correctly 7 times and gradient boosting classifer only prediciting correctly once. Furthermore, there was a large amount of times in both cases where they predicted the country not to be Canada when it actually was. The absurdly high accuracy, precision, and recall is due to the fact that there is a very large amount of the data that doesn't belong to Canada in comparison to that which does, so most will be predicted to not be Canada and be correct. Most likely it's too difficult to distinguish a country based purely on their population statistics by age."
   ]
  },
  {
   "cell_type": "markdown",
   "metadata": {},
   "source": [
    "Next, analysis will be done on the midyear population age sex dataset. This contains data for the population for each country by sex and exact age.\n",
    "\n",
    "Using logisitic regression and random forest classifier, whether a person is male or female will be predicted based on the country and population statisitics. Again, training data will consist of data at and before 2017 with test data being the years following."
   ]
  },
  {
   "cell_type": "code",
   "execution_count": 135,
   "metadata": {},
   "outputs": [],
   "source": [
    "df = pd.read_csv('international-data/midyear_population_age_sex.csv').dropna()"
   ]
  },
  {
   "cell_type": "code",
   "execution_count": 136,
   "metadata": {},
   "outputs": [
    {
     "data": {
      "text/html": [
       "<div>\n",
       "<style scoped>\n",
       "    .dataframe tbody tr th:only-of-type {\n",
       "        vertical-align: middle;\n",
       "    }\n",
       "\n",
       "    .dataframe tbody tr th {\n",
       "        vertical-align: top;\n",
       "    }\n",
       "\n",
       "    .dataframe thead th {\n",
       "        text-align: right;\n",
       "    }\n",
       "</style>\n",
       "<table border=\"1\" class=\"dataframe\">\n",
       "  <thead>\n",
       "    <tr style=\"text-align: right;\">\n",
       "      <th></th>\n",
       "      <th>country_code</th>\n",
       "      <th>country_name</th>\n",
       "      <th>year</th>\n",
       "      <th>sex</th>\n",
       "      <th>max_age</th>\n",
       "      <th>population_age_0</th>\n",
       "      <th>population_age_1</th>\n",
       "      <th>population_age_2</th>\n",
       "      <th>population_age_3</th>\n",
       "      <th>population_age_4</th>\n",
       "      <th>...</th>\n",
       "      <th>population_age_91</th>\n",
       "      <th>population_age_92</th>\n",
       "      <th>population_age_93</th>\n",
       "      <th>population_age_94</th>\n",
       "      <th>population_age_95</th>\n",
       "      <th>population_age_96</th>\n",
       "      <th>population_age_97</th>\n",
       "      <th>population_age_98</th>\n",
       "      <th>population_age_99</th>\n",
       "      <th>population_age_100</th>\n",
       "    </tr>\n",
       "  </thead>\n",
       "  <tbody>\n",
       "    <tr>\n",
       "      <th>0</th>\n",
       "      <td>AF</td>\n",
       "      <td>Afghanistan</td>\n",
       "      <td>1979</td>\n",
       "      <td>Male</td>\n",
       "      <td>100</td>\n",
       "      <td>318425</td>\n",
       "      <td>299061</td>\n",
       "      <td>282850</td>\n",
       "      <td>268400</td>\n",
       "      <td>255599</td>\n",
       "      <td>...</td>\n",
       "      <td>170</td>\n",
       "      <td>109</td>\n",
       "      <td>67</td>\n",
       "      <td>42</td>\n",
       "      <td>24</td>\n",
       "      <td>14</td>\n",
       "      <td>8</td>\n",
       "      <td>4</td>\n",
       "      <td>2</td>\n",
       "      <td>2</td>\n",
       "    </tr>\n",
       "    <tr>\n",
       "      <th>1</th>\n",
       "      <td>AF</td>\n",
       "      <td>Afghanistan</td>\n",
       "      <td>1980</td>\n",
       "      <td>Female</td>\n",
       "      <td>100</td>\n",
       "      <td>303582</td>\n",
       "      <td>253596</td>\n",
       "      <td>255259</td>\n",
       "      <td>249053</td>\n",
       "      <td>239924</td>\n",
       "      <td>...</td>\n",
       "      <td>71</td>\n",
       "      <td>45</td>\n",
       "      <td>27</td>\n",
       "      <td>16</td>\n",
       "      <td>9</td>\n",
       "      <td>6</td>\n",
       "      <td>3</td>\n",
       "      <td>1</td>\n",
       "      <td>1</td>\n",
       "      <td>1</td>\n",
       "    </tr>\n",
       "    <tr>\n",
       "      <th>2</th>\n",
       "      <td>AF</td>\n",
       "      <td>Afghanistan</td>\n",
       "      <td>1981</td>\n",
       "      <td>Male</td>\n",
       "      <td>100</td>\n",
       "      <td>278483</td>\n",
       "      <td>253006</td>\n",
       "      <td>228441</td>\n",
       "      <td>233548</td>\n",
       "      <td>226679</td>\n",
       "      <td>...</td>\n",
       "      <td>169</td>\n",
       "      <td>108</td>\n",
       "      <td>67</td>\n",
       "      <td>41</td>\n",
       "      <td>24</td>\n",
       "      <td>14</td>\n",
       "      <td>8</td>\n",
       "      <td>4</td>\n",
       "      <td>2</td>\n",
       "      <td>2</td>\n",
       "    </tr>\n",
       "    <tr>\n",
       "      <th>3</th>\n",
       "      <td>AF</td>\n",
       "      <td>Afghanistan</td>\n",
       "      <td>1982</td>\n",
       "      <td>Male</td>\n",
       "      <td>100</td>\n",
       "      <td>260493</td>\n",
       "      <td>226577</td>\n",
       "      <td>217475</td>\n",
       "      <td>198617</td>\n",
       "      <td>205456</td>\n",
       "      <td>...</td>\n",
       "      <td>168</td>\n",
       "      <td>108</td>\n",
       "      <td>67</td>\n",
       "      <td>41</td>\n",
       "      <td>24</td>\n",
       "      <td>14</td>\n",
       "      <td>7</td>\n",
       "      <td>5</td>\n",
       "      <td>2</td>\n",
       "      <td>2</td>\n",
       "    </tr>\n",
       "    <tr>\n",
       "      <th>4</th>\n",
       "      <td>AF</td>\n",
       "      <td>Afghanistan</td>\n",
       "      <td>1986</td>\n",
       "      <td>Male</td>\n",
       "      <td>100</td>\n",
       "      <td>288288</td>\n",
       "      <td>244977</td>\n",
       "      <td>225403</td>\n",
       "      <td>207463</td>\n",
       "      <td>204496</td>\n",
       "      <td>...</td>\n",
       "      <td>159</td>\n",
       "      <td>108</td>\n",
       "      <td>67</td>\n",
       "      <td>40</td>\n",
       "      <td>25</td>\n",
       "      <td>13</td>\n",
       "      <td>8</td>\n",
       "      <td>4</td>\n",
       "      <td>2</td>\n",
       "      <td>2</td>\n",
       "    </tr>\n",
       "  </tbody>\n",
       "</table>\n",
       "<p>5 rows × 106 columns</p>\n",
       "</div>"
      ],
      "text/plain": [
       "  country_code country_name  year     sex  max_age  population_age_0  \\\n",
       "0           AF  Afghanistan  1979    Male      100            318425   \n",
       "1           AF  Afghanistan  1980  Female      100            303582   \n",
       "2           AF  Afghanistan  1981    Male      100            278483   \n",
       "3           AF  Afghanistan  1982    Male      100            260493   \n",
       "4           AF  Afghanistan  1986    Male      100            288288   \n",
       "\n",
       "   population_age_1  population_age_2  population_age_3  population_age_4  \\\n",
       "0            299061            282850            268400            255599   \n",
       "1            253596            255259            249053            239924   \n",
       "2            253006            228441            233548            226679   \n",
       "3            226577            217475            198617            205456   \n",
       "4            244977            225403            207463            204496   \n",
       "\n",
       "          ...          population_age_91  population_age_92  \\\n",
       "0         ...                        170                109   \n",
       "1         ...                         71                 45   \n",
       "2         ...                        169                108   \n",
       "3         ...                        168                108   \n",
       "4         ...                        159                108   \n",
       "\n",
       "   population_age_93  population_age_94  population_age_95  population_age_96  \\\n",
       "0                 67                 42                 24                 14   \n",
       "1                 27                 16                  9                  6   \n",
       "2                 67                 41                 24                 14   \n",
       "3                 67                 41                 24                 14   \n",
       "4                 67                 40                 25                 13   \n",
       "\n",
       "   population_age_97  population_age_98  population_age_99  population_age_100  \n",
       "0                  8                  4                  2                   2  \n",
       "1                  3                  1                  1                   1  \n",
       "2                  8                  4                  2                   2  \n",
       "3                  7                  5                  2                   2  \n",
       "4                  8                  4                  2                   2  \n",
       "\n",
       "[5 rows x 106 columns]"
      ]
     },
     "execution_count": 136,
     "metadata": {},
     "output_type": "execute_result"
    }
   ],
   "source": [
    "df.head()"
   ]
  },
  {
   "cell_type": "code",
   "execution_count": 141,
   "metadata": {},
   "outputs": [
    {
     "name": "stdout",
     "output_type": "stream",
     "text": [
      "['Female' 'Male']\n",
      "[[3353 4171]\n",
      " [2065 5459]]\n",
      "accuracy is:  0.5855927698032961\n"
     ]
    },
    {
     "data": {
      "text/plain": [
       "(0.5668743509865005, 0.7255449229133439, 0.6364696280750846, None)"
      ]
     },
     "execution_count": 141,
     "metadata": {},
     "output_type": "execute_result"
    }
   ],
   "source": [
    "# only take population features for every 20 years\n",
    "X = df[['year','population_age_1','population_age_20','population_age_40','population_age_60','population_age_80','population_age_100']]\n",
    "y = df[['year', 'sex']]\n",
    "\n",
    "X_train = X[X['year'] <= 2017]\n",
    "X_test = X[X['year'] > 2017]\n",
    "\n",
    "y_train = y[y['year'] <= 2017]\n",
    "y_test = y[y['year'] > 2017]\n",
    "y_train = y_train['sex']\n",
    "y_test = y_test['sex']\n",
    "\n",
    "# Logisitic Regression to predict sex by population stats\n",
    "logreg = LogisticRegression()\n",
    "logreg.fit(X_train, y_train)\n",
    "\n",
    "preds = logreg.predict(X_test)\n",
    "conf = confusion_matrix(y_test, preds)\n",
    "print(logreg.classes_)\n",
    "print(conf)\n",
    "acc = accuracy_score(y_test, preds)\n",
    "print('accuracy is: ', acc)\n",
    "precision_recall_fscore_support(y_test, preds, pos_label='Male', average='binary')\n"
   ]
  },
  {
   "cell_type": "code",
   "execution_count": 146,
   "metadata": {},
   "outputs": [
    {
     "name": "stdout",
     "output_type": "stream",
     "text": [
      "['Female' 'Male']\n",
      "[[6450 1074]\n",
      " [4792 2732]]\n",
      "Accuracy is:  0.610180754917597\n"
     ]
    },
    {
     "data": {
      "text/plain": [
       "(0.7178139779295849, 0.36310473152578415, 0.48225948808473074, None)"
      ]
     },
     "execution_count": 146,
     "metadata": {},
     "output_type": "execute_result"
    }
   ],
   "source": [
    "# Random forest to predict sex by population stats\n",
    "\n",
    "randclass = RandomForestClassifier()\n",
    "\n",
    "randclass.fit(X_train, y_train)\n",
    "pred1 = randclass.predict(X_test)\n",
    "\n",
    "conf = confusion_matrix(y_test, pred1)\n",
    "print(logreg.classes_)\n",
    "print(conf)\n",
    "tree_acc = accuracy_score(y_test, pred1)\n",
    "print('Accuracy is: ', tree_acc)\n",
    "precision_recall_fscore_support(y_test, pred1, pos_label='Male', average='binary')\n"
   ]
  },
  {
   "cell_type": "markdown",
   "metadata": {},
   "source": [
    "As seen above, random forest only performs slightly better than logistic regression in predicting sex by population. This is likely due to that fact that world populations are fairly equal for both male and female and it's more difficult to discern which is more likely when populations by sex vary so much. It's difficult to predict whether a person is more likely to be female or male based on population statistics if world populations by sex are quite even.\n",
    "\n",
    "Finally, using the birth death growth rates dataset again, net migration will be predicted using random forests, gradient boosted trees, and linear regression with everything else used as a feature. Rather than taking only Canada's statistics into consideration, birth rates, death rates, natural increase, and growth rate of the world will be used. 10-fold cross validation will be used with both methods to evaluate how well world migration can be predicted through machine learning models."
   ]
  },
  {
   "cell_type": "code",
   "execution_count": 157,
   "metadata": {},
   "outputs": [
    {
     "name": "stdout",
     "output_type": "stream",
     "text": [
      "The MSE using cross validation on the entire dataset is 647.0924977149381\n"
     ]
    },
    {
     "data": {
      "image/png": "[encoded data removed]",
      "text/plain": [
       "<matplotlib.figure.Figure at 0x250bf6046a0>"
      ]
     },
     "metadata": {},
     "output_type": "display_data"
    }
   ],
   "source": [
    "df = pd.read_csv('international-data/birth_death_growth_rates.csv').dropna()\n",
    "\n",
    "# use everything but country and death rate as features and death rate as the predictor\n",
    "X = df.drop(['country_code', 'country_name', 'net_migration'], axis=1)\n",
    "y = df['net_migration']\n",
    "\n",
    "# cross validation over 10-folds using random forest regressor\n",
    "kf = KFold(n_splits=10)\n",
    "\n",
    "preds_cv = []\n",
    "\n",
    "for train, test in kf.split(X):\n",
    "    X_cv = X.iloc[train]\n",
    "    y_cv = y.iloc[train]\n",
    "    \n",
    "    X_cv_test = X.iloc[test]\n",
    "    \n",
    "    lm_cv = RandomForestRegressor(max_features='auto', random_state=1)\n",
    "    lm_cv.fit(X_cv, y_cv)\n",
    "    preds = lm_cv.predict(X_cv_test)\n",
    "    preds_cv += list(preds)\n",
    "    \n",
    "\n",
    "mse_cv = mean_squared_error(y, preds_cv)\n",
    "print(\"The MSE using cross validation on the entire dataset is %s\" % mse_cv)\n",
    "\n",
    "plt.figure()\n",
    "plt.scatter(y, preds_cv)\n",
    "plt.xlabel(\"Actual y Value\")\n",
    "plt.ylabel(\"Predicted y Value\")\n",
    "plt.show()"
   ]
  },
  {
   "cell_type": "code",
   "execution_count": 158,
   "metadata": {},
   "outputs": [
    {
     "name": "stdout",
     "output_type": "stream",
     "text": [
      "The MSE using cross validation on the entire dataset is 662.919948028643\n"
     ]
    },
    {
     "data": {
      "image/png": "[encoded data removed]",
      "text/plain": [
       "<matplotlib.figure.Figure at 0x250bf32c320>"
      ]
     },
     "metadata": {},
     "output_type": "display_data"
    }
   ],
   "source": [
    "# cross validation over 10-folds using gradient boosted trees\n",
    "kf = KFold(n_splits=10)\n",
    "\n",
    "preds_cv = []\n",
    "\n",
    "for train, test in kf.split(X):\n",
    "    X_cv = X.iloc[train]\n",
    "    y_cv = y.iloc[train]\n",
    "    \n",
    "    X_cv_test = X.iloc[test]\n",
    "    \n",
    "    lm_cv = GradientBoostingRegressor(n_estimators=500, learning_rate=0.01, max_depth=4, random_state=1)\n",
    "    lm_cv.fit(X_cv, y_cv)\n",
    "    preds = lm_cv.predict(X_cv_test)\n",
    "    preds_cv += list(preds)\n",
    "    \n",
    "\n",
    "mse_cv = mean_squared_error(y, preds_cv)\n",
    "print(\"The MSE using cross validation on the entire dataset is %s\" % mse_cv)\n",
    "\n",
    "plt.figure()\n",
    "plt.scatter(y, preds_cv)\n",
    "plt.xlabel(\"Actual y Value\")\n",
    "plt.ylabel(\"Predicted y Value\")\n",
    "plt.show()"
   ]
  },
  {
   "cell_type": "code",
   "execution_count": 161,
   "metadata": {},
   "outputs": [
    {
     "name": "stdout",
     "output_type": "stream",
     "text": [
      "The MSE using cross validation on the entire dataset is 1174.4424052051854\n"
     ]
    },
    {
     "data": {
      "image/png": "[encoded data removed]",
      "text/plain": [
       "<matplotlib.figure.Figure at 0x250c0c56eb8>"
      ]
     },
     "metadata": {},
     "output_type": "display_data"
    }
   ],
   "source": [
    "# cross validation over 10-folds using linear regression\n",
    "kf = KFold(n_splits=10)\n",
    "\n",
    "preds_cv = []\n",
    "\n",
    "for train, test in kf.split(X):\n",
    "    X_cv = X.iloc[train]\n",
    "    y_cv = y.iloc[train]\n",
    "    \n",
    "    X_cv_test = X.iloc[test]\n",
    "    \n",
    "    lm_cv = LinearRegression()\n",
    "    lm_cv.fit(X_cv, y_cv)\n",
    "    preds = lm_cv.predict(X_cv_test)\n",
    "    preds_cv += list(preds)\n",
    "    \n",
    "\n",
    "mse_cv = mean_squared_error(y, preds_cv)\n",
    "print(\"The MSE using cross validation on the entire dataset is %s\" % mse_cv)\n",
    "\n",
    "plt.figure()\n",
    "plt.scatter(y, preds_cv)\n",
    "plt.xlabel(\"Actual y Value\")\n",
    "plt.ylabel(\"Predicted y Value\")\n",
    "plt.show()"
   ]
  },
  {
   "cell_type": "markdown",
   "metadata": {},
   "source": [
    "This shows that while random forests performs the best, they all do a fair job at predicting world migration rates when they're close to 0. However, they also have trouble predicting large negative or positive values due to their trouble in handling outliers. At points in time where country migration rates aren't affected by unforeseen circumstances and remain steady, machine learning models may do a decent job at prediction."
   ]
  },
  {
   "cell_type": "markdown",
   "metadata": {},
   "source": [
    "An interesting finding after performing these machine learning tasks over this data is that while certain rates such as death rate can be predicted rather easily, other rates such as migration rates are more difficult to anticipate. This is because something like death will always go up at a steady rate due to the rapidly increasing world population, but country migration may happen suddenly for many different political or societal reasons and is therefore much more unpredictable.\n",
    "\n",
    "A final interesting finding is the fact that population by sex isn't enough on it's own to predict individual sex. Because of the common conception that women live longer than men, I figured that the data would scew more towards there being more people of the female sex worldwide and therefore train the model to predict more heavily towards the female side. However, this didn't seem to be the case since the models predicted women and men almost equally."
   ]
  },
  {
   "cell_type": "code",
   "execution_count": null,
   "metadata": {},
   "outputs": [],
   "source": []
  }
 ],
 "metadata": {
  "kernelspec": {
   "display_name": "Python 3",
   "language": "python",
   "name": "python3"
  },
  "language_info": {
   "codemirror_mode": {
    "name": "ipython",
    "version": 3
   },
   "file_extension": ".py",
   "mimetype": "text/x-python",
   "name": "python",
   "nbconvert_exporter": "python",
   "pygments_lexer": "ipython3",
   "version": "3.6.4"
  }
 },
 "nbformat": 4,
 "nbformat_minor": 2
}
